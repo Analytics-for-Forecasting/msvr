{
 "cells": [
  {
   "cell_type": "code",
   "execution_count": 4,
   "metadata": {},
   "outputs": [],
   "source": [
    "from msvr import kernelmatrix\n",
    "from msvr import msvr\n",
    "import numpy as np"
   ]
  },
  {
   "cell_type": "code",
   "execution_count": 5,
   "metadata": {},
   "outputs": [],
   "source": [
    "x1 = np.sin(np.arange(0, 9, 0.01))\n",
    "x2 = np.cos(np.arange(0, 9, 0.01))\n",
    "x3 = x1**2\n",
    "x4 = (x1+x2)/2"
   ]
  },
  {
   "cell_type": "code",
   "execution_count": 6,
   "metadata": {},
   "outputs": [],
   "source": [
    "x = np.vstack((x1,x2)).T\n",
    "y = np.vstack((x3,x4)).T"
   ]
  },
  {
   "cell_type": "code",
   "execution_count": 7,
   "metadata": {},
   "outputs": [],
   "source": [
    "Xtrain = x[:600, :]\n",
    "Ytrain = y[:600, :]"
   ]
  },
  {
   "cell_type": "code",
   "execution_count": 9,
   "metadata": {},
   "outputs": [],
   "source": [
    "# Parameters\n",
    "ker     = 'rbf';\n",
    "epsilon = 0.1;\n",
    "C       = 2;\n",
    "sigma   = 1;\n",
    "tol     = 1e-10;"
   ]
  },
  {
   "cell_type": "code",
   "execution_count": 12,
   "metadata": {},
   "outputs": [],
   "source": [
    "# Train\n",
    "Beta, NSV, H,i1 = msvr(Xtrain, Ytrain, ker, C, epsilon, sigma, tol)"
   ]
  },
  {
   "cell_type": "code",
   "execution_count": 14,
   "metadata": {},
   "outputs": [],
   "source": [
    "# Predict\n",
    "Ktest = kernelmatrix('rbf', Xtrain.T, Xtrain.T, sigma);\n",
    "Ypred = np.dot(Ktest, Beta)"
   ]
  },
  {
   "cell_type": "code",
   "execution_count": null,
   "metadata": {},
   "outputs": [],
   "source": []
  }
 ],
 "metadata": {
  "kernelspec": {
   "display_name": "Python 3",
   "language": "python",
   "name": "python3"
  },
  "language_info": {
   "codemirror_mode": {
    "name": "ipython",
    "version": 3
   },
   "file_extension": ".py",
   "mimetype": "text/x-python",
   "name": "python",
   "nbconvert_exporter": "python",
   "pygments_lexer": "ipython3",
   "version": "3.7.3"
  }
 },
 "nbformat": 4,
 "nbformat_minor": 2
}
