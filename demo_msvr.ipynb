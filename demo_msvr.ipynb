{
 "cells": [
  {
   "cell_type": "code",
   "execution_count": 104,
   "metadata": {},
   "outputs": [],
   "source": [
    "from msvr import kernelmatrix\n",
    "from msvr import msvr\n",
    "import numpy as np"
   ]
  },
  {
   "cell_type": "code",
   "execution_count": 105,
   "metadata": {},
   "outputs": [],
   "source": [
    "x1 = np.sin(np.arange(0, 9, 0.01))\n",
    "x2 = np.cos(np.arange(0, 9, 0.01))\n",
    "x3 = x1**2\n",
    "x4 = (x1+x2)/2\n",
    "\n",
    "x = np.vstack((x1,x2)).T\n",
    "y = np.vstack((x3,x4)).T"
   ]
  },
  {
   "cell_type": "code",
   "execution_count": 106,
   "metadata": {},
   "outputs": [],
   "source": [
    "# Input & Output\n",
    "# Xtrain: number of samples * input dimension\n",
    "# Ytrain: number of samples * output dimension\n",
    "\n",
    "Xtrain = x[:600, :]\n",
    "Ytrain = y[:600, :]\n",
    "Xtest = x[600:, :]\n",
    "Ytest = y[600:, :]\n",
    "Xtrain = (Xtrain-np.min(Xtrain))/(np.max(Xtrain)-np.min(Xtrain))\n",
    "Ytrain = (Ytrain-np.min(Ytrain))/(np.max(Ytrain)-np.min(Ytrain))"
   ]
  },
  {
   "cell_type": "code",
   "execution_count": 107,
   "metadata": {},
   "outputs": [],
   "source": [
    "# Parameters\n",
    "ker     = 'rbf'\n",
    "C       = 2\n",
    "epsi = 0.001\n",
    "par   = 0.5\n",
    "tol     = 1e-10"
   ]
  },
  {
   "cell_type": "code",
   "execution_count": 108,
   "metadata": {},
   "outputs": [],
   "source": [
    "# Train\n",
    "Beta = msvr(Xtrain, Ytrain, ker, C, epsi, par, tol)"
   ]
  },
  {
   "cell_type": "code",
   "execution_count": 109,
   "metadata": {},
   "outputs": [],
   "source": [
    "# Predict with train set\n",
    "K = kernelmatrix('rbf', Xtrain, Xtrain, par)\n",
    "Ypred = np.dot(K, Beta)"
   ]
  },
  {
   "cell_type": "code",
   "execution_count": 110,
   "metadata": {},
   "outputs": [],
   "source": [
    "# Predict with test set\n",
    "K = kernelmatrix('rbf', Xtest, Xtrain, par)\n",
    "Ypred = np.dot(K, Beta)"
   ]
  },
  {
   "cell_type": "code",
   "execution_count": null,
   "metadata": {},
   "outputs": [],
   "source": []
  }
 ],
 "metadata": {
  "kernelspec": {
   "display_name": "Python 3",
   "language": "python",
   "name": "python3"
  },
  "language_info": {
   "codemirror_mode": {
    "name": "ipython",
    "version": 3
   },
   "file_extension": ".py",
   "mimetype": "text/x-python",
   "name": "python",
   "nbconvert_exporter": "python",
   "pygments_lexer": "ipython3",
   "version": "3.7.3"
  }
 },
 "nbformat": 4,
 "nbformat_minor": 2
}
