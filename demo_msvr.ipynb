{
 "cells": [
  {
   "cell_type": "code",
   "execution_count": 1,
   "metadata": {},
   "outputs": [],
   "source": [
    "from msvr import kernelmatrix\n",
    "from msvr import msvr\n",
    "import numpy as np"
   ]
  },
  {
   "cell_type": "code",
   "execution_count": 2,
   "metadata": {},
   "outputs": [],
   "source": [
    "x1 = np.sin(np.arange(0, 9, 0.01))\n",
    "x2 = np.cos(np.arange(0, 9, 0.01))\n",
    "x3 = x1**2\n",
    "x4 = (x1+x2)/2\n",
    "\n",
    "x = np.vstack((x1,x2)).T\n",
    "y = np.vstack((x3,x4)).T"
   ]
  },
  {
   "cell_type": "code",
   "execution_count": 4,
   "metadata": {},
   "outputs": [],
   "source": [
    "# Input & Output\n",
    "# Xtrain: number of samples * input dimension\n",
    "# Ytrain: number of samples * output dimension\n",
    "\n",
    "train = x[:600, :]\n",
    "Ytrain = y[:600, :]\n",
    "Xtest = x[600:, :]\n",
    "Ytest = y[600:, :]\n",
    "Xtrain = (Xtrain-np.min(Xtrain))/(np.max(Xtrain)-np.min(Xtrain))\n",
    "Ytrain = (Ytrain-np.min(Ytrain))/(np.max(Ytrain)-np.min(Ytrain))"
   ]
  },
  {
   "cell_type": "code",
   "execution_count": 6,
   "metadata": {},
   "outputs": [],
   "source": [
    "# Parameters\n",
    "ker     = 'rbf';\n",
    "epsi = 0.001;\n",
    "C       = 2;\n",
    "sigma   = 0.8;\n",
    "tol     = 1e-10;"
   ]
  },
  {
   "cell_type": "code",
   "execution_count": 7,
   "metadata": {},
   "outputs": [],
   "source": [
    "# Train\n",
    "Beta, NSV, H,i1 = msvr(Xtrain, Ytrain, ker, C, epsi, sigma, tol)"
   ]
  },
  {
   "cell_type": "code",
   "execution_count": 8,
   "metadata": {},
   "outputs": [],
   "source": [
    "# Predict with train set\n",
    "Ktest = kernelmatrix('rbf', Xtrain, Xtrain, sigma);\n",
    "Ypred = np.dot(Ktest, Beta)"
   ]
  },
  {
   "cell_type": "code",
   "execution_count": null,
   "metadata": {},
   "outputs": [],
   "source": [
    "# Predict with test set\n",
    "Ktest = kernelmatrix('rbf', Xtest, Xtrain, sigma);\n",
    "Ypred = np.dot(Ktest, Beta)"
   ]
  },
  {
   "cell_type": "code",
   "execution_count": null,
   "metadata": {},
   "outputs": [],
   "source": []
  }
 ],
 "metadata": {
  "kernelspec": {
   "display_name": "Python 3",
   "language": "python",
   "name": "python3"
  },
  "language_info": {
   "codemirror_mode": {
    "name": "ipython",
    "version": 3
   },
   "file_extension": ".py",
   "mimetype": "text/x-python",
   "name": "python",
   "nbconvert_exporter": "python",
   "pygments_lexer": "ipython3",
   "version": "3.7.3"
  }
 },
 "nbformat": 4,
 "nbformat_minor": 2
}